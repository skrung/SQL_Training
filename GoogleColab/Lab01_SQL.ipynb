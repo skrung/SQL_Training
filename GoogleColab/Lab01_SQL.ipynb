{
  "nbformat": 4,
  "nbformat_minor": 0,
  "metadata": {
    "colab": {
      "provenance": []
    },
    "kernelspec": {
      "name": "python3",
      "display_name": "Python 3"
    },
    "language_info": {
      "name": "python"
    }
  },
  "cells": [
    {
      "cell_type": "markdown",
      "source": [
        "# Review lab:Structured data model (Relational database)\n",
        "\n",
        "This Google colaboratory notebook contains Python codes for performing SQL statements. The sqlite3 DB will be used. It is automatically installed with the Google colaboratory platform. See [https://www.sqlite.org/docs.html](https://www.sqlite.org/docs.html) for more information.\n",
        "\n",
        "Written by Associate Professor Dr. Krung Sinapiromsaran  \n",
        "Version 0.01:25 June 2024  "
      ],
      "metadata": {
        "id": "uPJ_OTThVXjp"
      }
    },
    {
      "cell_type": "markdown",
      "source": [
        "## &#48;. Lab Preparation\n",
        "\n",
        "1. Check the availability of sqlite3.  \n",
        "2. Download chinook database from this URL [Chinook.zip](http://www.sqlitetutorial.net/wp-content/uploads/2018/03/chinook.zip). Need to unzip since it is in the zip format.  \n",
        "3. Set up the connection object variable with the chinook.db file and set up the cursor to pass the SQL statement.  \n"
      ],
      "metadata": {
        "id": "3xBMwJIyVpqZ"
      }
    },
    {
      "cell_type": "code",
      "source": [
        "# The output should produce \"The sqlite3 module is available.\" if not you will need to install it.\n",
        "import sys\n",
        "if 'sqlite3' in sys.modules:\n",
        "  print(\"The sqlite3 module is available.\")\n",
        "else:\n",
        "  print(\"The sqlite3 module is not available\")"
      ],
      "metadata": {
        "colab": {
          "base_uri": "https://localhost:8080/"
        },
        "id": "i-dNj9lv4gqT",
        "outputId": "e00d9ab2-7768-4c71-d0ca-2225260a38c4"
      },
      "execution_count": null,
      "outputs": [
        {
          "output_type": "stream",
          "name": "stdout",
          "text": [
            "The sqlite3 module is available.\n"
          ]
        }
      ]
    },
    {
      "cell_type": "code",
      "source": [
        "# Get the chinook database from sqlitetutorial and unzip it\n",
        "!wget http://www.sqlitetutorial.net/wp-content/uploads/2018/03/chinook.zip\n",
        "!unzip chinook.zip"
      ],
      "metadata": {
        "colab": {
          "base_uri": "https://localhost:8080/"
        },
        "id": "pFgW7zuyV24c",
        "outputId": "e6754b1e-4574-4980-946e-9fe2b26dc06b"
      },
      "execution_count": null,
      "outputs": [
        {
          "output_type": "stream",
          "name": "stdout",
          "text": [
            "--2024-06-19 03:01:50--  http://www.sqlitetutorial.net/wp-content/uploads/2018/03/chinook.zip\n",
            "Resolving www.sqlitetutorial.net (www.sqlitetutorial.net)... 104.21.30.141, 172.67.172.250, 2606:4700:3037::6815:1e8d, ...\n",
            "Connecting to www.sqlitetutorial.net (www.sqlitetutorial.net)|104.21.30.141|:80... connected.\n",
            "HTTP request sent, awaiting response... 301 Moved Permanently\n",
            "Location: https://www.sqlitetutorial.net/wp-content/uploads/2018/03/chinook.zip [following]\n",
            "--2024-06-19 03:01:50--  https://www.sqlitetutorial.net/wp-content/uploads/2018/03/chinook.zip\n",
            "Connecting to www.sqlitetutorial.net (www.sqlitetutorial.net)|104.21.30.141|:443... connected.\n",
            "HTTP request sent, awaiting response... 200 OK\n",
            "Length: 305596 (298K) [application/zip]\n",
            "Saving to: ‘chinook.zip’\n",
            "\n",
            "chinook.zip         100%[===================>] 298.43K  --.-KB/s    in 0.03s   \n",
            "\n",
            "2024-06-19 03:01:50 (8.87 MB/s) - ‘chinook.zip’ saved [305596/305596]\n",
            "\n",
            "Archive:  chinook.zip\n",
            "  inflating: chinook.db              \n"
          ]
        }
      ]
    },
    {
      "cell_type": "code",
      "source": [
        "# Import sqlite library\n",
        "import sqlite3"
      ],
      "metadata": {
        "id": "p8N8CROz74gD"
      },
      "execution_count": null,
      "outputs": []
    },
    {
      "cell_type": "code",
      "source": [
        "# Create the database connection with the current chinook.db\n",
        "dbconnect = sqlite3.connect('chinook.db')\n",
        "cursor = dbconnect.cursor()"
      ],
      "metadata": {
        "id": "faKI9iw-WicF"
      },
      "execution_count": null,
      "outputs": []
    },
    {
      "cell_type": "markdown",
      "source": [
        "## &#49;. Extract meta-data from SQLite DB\n",
        "\n",
        "From the current chinook.db, SQL statments for DML (Data manipulation language) can be used to extract instances from a table. Here is the step-by-step instruction.  \n",
        "* Connect to the given database via the database connection.  \n",
        "* Define the cursor to represent the pointer to each individual record.  \n",
        "* Use cursor.fetchone() or cursor.fetchall() to extract a single next record or all records.  \n"
      ],
      "metadata": {
        "id": "Dl38Kf5IdBa2"
      }
    },
    {
      "cell_type": "code",
      "source": [
        "def list_all_tables_in(db_file):\n",
        "  \"\"\"Lists all tables in SQLite3 databases\"\"\"\n",
        "  with sqlite3.connect(db_file) as conn:\n",
        "    cursor = conn.cursor()\n",
        "    cursor.execute(\"SELECT name FROM sqlite_master WHERE type='table';\")\n",
        "    tables = [table_info[0] for table_info in cursor.fetchall() if 'sqlite' not in table_info[0]]\n",
        "    return tables"
      ],
      "metadata": {
        "id": "T13bs8ku8jCm"
      },
      "execution_count": null,
      "outputs": []
    },
    {
      "cell_type": "code",
      "source": [
        "list_all_tables_in('chinook.db')"
      ],
      "metadata": {
        "colab": {
          "base_uri": "https://localhost:8080/"
        },
        "id": "7b3136un8jGJ",
        "outputId": "24ffcef6-1f94-4122-a117-82649c9c942c"
      },
      "execution_count": null,
      "outputs": [
        {
          "output_type": "execute_result",
          "data": {
            "text/plain": [
              "['albums',\n",
              " 'artists',\n",
              " 'customers',\n",
              " 'employees',\n",
              " 'genres',\n",
              " 'invoices',\n",
              " 'invoice_items',\n",
              " 'media_types',\n",
              " 'playlists',\n",
              " 'playlist_track',\n",
              " 'tracks']"
            ]
          },
          "metadata": {},
          "execution_count": 8
        }
      ]
    },
    {
      "cell_type": "markdown",
      "source": [
        "There are 11 tables in the chinook database which are stored in `sqlite_master` table. Note that other tables with the phrase 'sqlite' are internal to SQLite3. They will be removed from the table list.  "
      ],
      "metadata": {
        "id": "E-wBfvDMI-lB"
      }
    },
    {
      "cell_type": "markdown",
      "source": [
        "## &#50;. SQL:Data definition language\n",
        "\n",
        "**DDL** (Data Definition Language) is used to define and manipulate the structure of objects within a relational database\n",
        "Functionality:\n",
        "* Create database objects (CREATE)\n",
        "* Modify database objects (ALTER)\n",
        "* Delete database objects (DROP)\n"
      ],
      "metadata": {
        "id": "8RkcR40gGXkv"
      }
    },
    {
      "cell_type": "code",
      "source": [
        "# Create a new relation\n",
        "cursor.execute('''\n",
        "    CREATE TABLE IF NOT EXISTS test (\n",
        "        id INTEGER PRIMARY KEY AUTOINCREMENT,\n",
        "        name TEXT NOT NULL,\n",
        "        age INTEGER,\n",
        "        salary REAL\n",
        "    )\n",
        "''')\n",
        "list_all_tables_in('chinook.db')"
      ],
      "metadata": {
        "colab": {
          "base_uri": "https://localhost:8080/"
        },
        "id": "Xww1z7i9GyzW",
        "outputId": "5859388b-95c6-46a2-db1c-bf6c4c8eedb8"
      },
      "execution_count": null,
      "outputs": [
        {
          "output_type": "execute_result",
          "data": {
            "text/plain": [
              "['albums',\n",
              " 'artists',\n",
              " 'customers',\n",
              " 'employees',\n",
              " 'genres',\n",
              " 'invoices',\n",
              " 'invoice_items',\n",
              " 'media_types',\n",
              " 'playlists',\n",
              " 'playlist_track',\n",
              " 'tracks',\n",
              " 'test']"
            ]
          },
          "metadata": {},
          "execution_count": 9
        }
      ]
    },
    {
      "cell_type": "code",
      "source": [
        "# Add a new column\n",
        "cursor.execute('ALTER TABLE test ADD COLUMN email TEXT')\n",
        "list_all_tables_in('chinook.db')"
      ],
      "metadata": {
        "colab": {
          "base_uri": "https://localhost:8080/"
        },
        "id": "xZFkXcIuHq7X",
        "outputId": "fff0a1f3-9c9c-4239-f28c-f3c956fdb3cd"
      },
      "execution_count": null,
      "outputs": [
        {
          "output_type": "execute_result",
          "data": {
            "text/plain": [
              "['albums',\n",
              " 'artists',\n",
              " 'customers',\n",
              " 'employees',\n",
              " 'genres',\n",
              " 'invoices',\n",
              " 'invoice_items',\n",
              " 'media_types',\n",
              " 'playlists',\n",
              " 'playlist_track',\n",
              " 'tracks',\n",
              " 'test']"
            ]
          },
          "metadata": {},
          "execution_count": 10
        }
      ]
    },
    {
      "cell_type": "code",
      "source": [
        "# Add a new instance\n",
        "cursor.execute('''\n",
        "   INSERT INTO test ('name', 'age', 'salary', 'email') VALUES (\"Krung\", 20, 50000, \"krung.s@chula.ac.th\")\n",
        "   ''')"
      ],
      "metadata": {
        "colab": {
          "base_uri": "https://localhost:8080/"
        },
        "id": "qb_YdqE7II9m",
        "outputId": "3f1b59c6-6521-4cea-850b-cd494045c8af"
      },
      "execution_count": null,
      "outputs": [
        {
          "output_type": "execute_result",
          "data": {
            "text/plain": [
              "<sqlite3.Cursor at 0x7ea3c3cc4940>"
            ]
          },
          "metadata": {},
          "execution_count": 11
        }
      ]
    },
    {
      "cell_type": "code",
      "source": [
        "# Extract the field names\n",
        "cursor.execute('SELECT * FROM test')\n",
        "names = [description[0] for description in cursor.description]\n",
        "print(names)"
      ],
      "metadata": {
        "colab": {
          "base_uri": "https://localhost:8080/"
        },
        "id": "H_FTL2NiH_as",
        "outputId": "998f56ad-482c-4df1-dce4-1ac720be65f5"
      },
      "execution_count": null,
      "outputs": [
        {
          "output_type": "stream",
          "name": "stdout",
          "text": [
            "['id', 'name', 'age', 'salary', 'email']\n"
          ]
        }
      ]
    },
    {
      "cell_type": "code",
      "source": [
        "# Delete test relation\n",
        "try:\n",
        "  cursor.execute(\"DROP TABLE IF EXISTS test\")\n",
        "  print(\"Table 'test' dropped successfully.\")\n",
        "except sqlite3.Error as e:\n",
        "  print(f\"Error dropping table: {e}\")"
      ],
      "metadata": {
        "colab": {
          "base_uri": "https://localhost:8080/"
        },
        "id": "E4QmSMYdI1xy",
        "outputId": "50dee6aa-324f-4615-81e3-52391a31d7b2"
      },
      "execution_count": null,
      "outputs": [
        {
          "output_type": "stream",
          "name": "stdout",
          "text": [
            "Table 'test' dropped successfully.\n"
          ]
        }
      ]
    },
    {
      "cell_type": "code",
      "source": [
        "# Disconnect\n",
        "dbconnect.close()"
      ],
      "metadata": {
        "id": "Rv_f5lScJYiJ"
      },
      "execution_count": null,
      "outputs": []
    },
    {
      "cell_type": "markdown",
      "source": [
        "## &#51;. SQL: DML\n",
        "\n",
        "**DML** (Data Manipulation Language) is used to extract and update tuples"
      ],
      "metadata": {
        "id": "a5Amgth3gRo_"
      }
    },
    {
      "cell_type": "markdown",
      "source": [
        "### &#51;.&#49; Show all tuples in a table\n",
        "\n",
        "To show records of any relations\n",
        "* Database must be connected.\n",
        "* Set cursor to access the database (One time only)\n",
        "* Perform operation per record"
      ],
      "metadata": {
        "id": "Vdi_l6FcJjNN"
      }
    },
    {
      "cell_type": "code",
      "source": [
        "# Create the database connection with the current chinook.db\n",
        "dbconnect = sqlite3.connect('chinook.db')\n",
        "cursor = dbconnect.cursor()"
      ],
      "metadata": {
        "id": "I5kIXEzwKTcm"
      },
      "execution_count": null,
      "outputs": []
    },
    {
      "cell_type": "code",
      "source": [
        "# Show all records in employees table\n",
        "cursor.execute(\"SELECT * FROM employees\")\n",
        "_ = [print(row) for row in cursor.fetchall()]"
      ],
      "metadata": {
        "colab": {
          "base_uri": "https://localhost:8080/"
        },
        "id": "6Jo3TJGj8jJy",
        "outputId": "679b31eb-46f1-4706-930c-712d0c70b27e"
      },
      "execution_count": null,
      "outputs": [
        {
          "output_type": "stream",
          "name": "stdout",
          "text": [
            "(1, 'Adams', 'Andrew', 'General Manager', None, '1962-02-18 00:00:00', '2002-08-14 00:00:00', '11120 Jasper Ave NW', 'Edmonton', 'AB', 'Canada', 'T5K 2N1', '+1 (780) 428-9482', '+1 (780) 428-3457', 'andrew@chinookcorp.com')\n",
            "(2, 'Edwards', 'Nancy', 'Sales Manager', 1, '1958-12-08 00:00:00', '2002-05-01 00:00:00', '825 8 Ave SW', 'Calgary', 'AB', 'Canada', 'T2P 2T3', '+1 (403) 262-3443', '+1 (403) 262-3322', 'nancy@chinookcorp.com')\n",
            "(3, 'Peacock', 'Jane', 'Sales Support Agent', 2, '1973-08-29 00:00:00', '2002-04-01 00:00:00', '1111 6 Ave SW', 'Calgary', 'AB', 'Canada', 'T2P 5M5', '+1 (403) 262-3443', '+1 (403) 262-6712', 'jane@chinookcorp.com')\n",
            "(4, 'Park', 'Margaret', 'Sales Support Agent', 2, '1947-09-19 00:00:00', '2003-05-03 00:00:00', '683 10 Street SW', 'Calgary', 'AB', 'Canada', 'T2P 5G3', '+1 (403) 263-4423', '+1 (403) 263-4289', 'margaret@chinookcorp.com')\n",
            "(5, 'Johnson', 'Steve', 'Sales Support Agent', 2, '1965-03-03 00:00:00', '2003-10-17 00:00:00', '7727B 41 Ave', 'Calgary', 'AB', 'Canada', 'T3B 1Y7', '1 (780) 836-9987', '1 (780) 836-9543', 'steve@chinookcorp.com')\n",
            "(6, 'Mitchell', 'Michael', 'IT Manager', 1, '1973-07-01 00:00:00', '2003-10-17 00:00:00', '5827 Bowness Road NW', 'Calgary', 'AB', 'Canada', 'T3B 0C5', '+1 (403) 246-9887', '+1 (403) 246-9899', 'michael@chinookcorp.com')\n",
            "(7, 'King', 'Robert', 'IT Staff', 6, '1970-05-29 00:00:00', '2004-01-02 00:00:00', '590 Columbia Boulevard West', 'Lethbridge', 'AB', 'Canada', 'T1K 5N8', '+1 (403) 456-9986', '+1 (403) 456-8485', 'robert@chinookcorp.com')\n",
            "(8, 'Callahan', 'Laura', 'IT Staff', 6, '1968-01-09 00:00:00', '2004-03-04 00:00:00', '923 7 ST NW', 'Lethbridge', 'AB', 'Canada', 'T1H 1Y8', '+1 (403) 467-3351', '+1 (403) 467-8772', 'laura@chinookcorp.com')\n"
          ]
        }
      ]
    },
    {
      "cell_type": "code",
      "source": [
        "# Extract the field names from employees table\n",
        "print([description[0] for description in cursor.description])"
      ],
      "metadata": {
        "id": "n5_F466ZXsys",
        "colab": {
          "base_uri": "https://localhost:8080/"
        },
        "outputId": "822ec4ce-bb3c-47a8-b991-17990b300f0e"
      },
      "execution_count": null,
      "outputs": [
        {
          "output_type": "stream",
          "name": "stdout",
          "text": [
            "['EmployeeId', 'LastName', 'FirstName', 'Title', 'ReportsTo', 'BirthDate', 'HireDate', 'Address', 'City', 'State', 'Country', 'PostalCode', 'Phone', 'Fax', 'Email']\n"
          ]
        }
      ]
    },
    {
      "cell_type": "code",
      "source": [
        "# To extract the type of each field, need to get it from pragma_table_info()\n",
        "cursor.execute(\"SELECT name, type FROM pragma_table_info('employees')\")\n",
        "_ = [print(row) for row in cursor.fetchall()]"
      ],
      "metadata": {
        "colab": {
          "base_uri": "https://localhost:8080/"
        },
        "id": "1gKpjpLBKZPE",
        "outputId": "78bf2c28-671d-45ed-adf1-dd766a2662f9"
      },
      "execution_count": null,
      "outputs": [
        {
          "output_type": "stream",
          "name": "stdout",
          "text": [
            "('EmployeeId', 'INTEGER')\n",
            "('LastName', 'NVARCHAR(20)')\n",
            "('FirstName', 'NVARCHAR(20)')\n",
            "('Title', 'NVARCHAR(30)')\n",
            "('ReportsTo', 'INTEGER')\n",
            "('BirthDate', 'DATETIME')\n",
            "('HireDate', 'DATETIME')\n",
            "('Address', 'NVARCHAR(70)')\n",
            "('City', 'NVARCHAR(40)')\n",
            "('State', 'NVARCHAR(40)')\n",
            "('Country', 'NVARCHAR(40)')\n",
            "('PostalCode', 'NVARCHAR(10)')\n",
            "('Phone', 'NVARCHAR(24)')\n",
            "('Fax', 'NVARCHAR(24)')\n",
            "('Email', 'NVARCHAR(60)')\n"
          ]
        }
      ]
    },
    {
      "cell_type": "code",
      "source": [
        "from prettytable import PrettyTable\n",
        "cursor.execute(\"SELECT * FROM employees\")\n",
        "table = PrettyTable([description[0] for description in cursor.description])\n",
        "table.align = \"l\"  # Set alignment for all columns (left, center, right)\n",
        "for row in cursor.fetchall():\n",
        "  table.add_row(row)\n",
        "print(table)"
      ],
      "metadata": {
        "colab": {
          "base_uri": "https://localhost:8080/"
        },
        "id": "ZvTWvDQtm8cs",
        "outputId": "88a77cf7-42db-4eab-e092-1b4b613f5424"
      },
      "execution_count": null,
      "outputs": [
        {
          "output_type": "stream",
          "name": "stdout",
          "text": [
            "+------------+----------+-----------+---------------------+-----------+---------------------+---------------------+-----------------------------+------------+-------+---------+------------+-------------------+-------------------+--------------------------+\n",
            "| EmployeeId | LastName | FirstName | Title               | ReportsTo | BirthDate           | HireDate            | Address                     | City       | State | Country | PostalCode | Phone             | Fax               | Email                    |\n",
            "+------------+----------+-----------+---------------------+-----------+---------------------+---------------------+-----------------------------+------------+-------+---------+------------+-------------------+-------------------+--------------------------+\n",
            "| 1          | Adams    | Andrew    | General Manager     | None      | 1962-02-18 00:00:00 | 2002-08-14 00:00:00 | 11120 Jasper Ave NW         | Edmonton   | AB    | Canada  | T5K 2N1    | +1 (780) 428-9482 | +1 (780) 428-3457 | andrew@chinookcorp.com   |\n",
            "| 2          | Edwards  | Nancy     | Sales Manager       | 1         | 1958-12-08 00:00:00 | 2002-05-01 00:00:00 | 825 8 Ave SW                | Calgary    | AB    | Canada  | T2P 2T3    | +1 (403) 262-3443 | +1 (403) 262-3322 | nancy@chinookcorp.com    |\n",
            "| 3          | Peacock  | Jane      | Sales Support Agent | 2         | 1973-08-29 00:00:00 | 2002-04-01 00:00:00 | 1111 6 Ave SW               | Calgary    | AB    | Canada  | T2P 5M5    | +1 (403) 262-3443 | +1 (403) 262-6712 | jane@chinookcorp.com     |\n",
            "| 4          | Park     | Margaret  | Sales Support Agent | 2         | 1947-09-19 00:00:00 | 2003-05-03 00:00:00 | 683 10 Street SW            | Calgary    | AB    | Canada  | T2P 5G3    | +1 (403) 263-4423 | +1 (403) 263-4289 | margaret@chinookcorp.com |\n",
            "| 5          | Johnson  | Steve     | Sales Support Agent | 2         | 1965-03-03 00:00:00 | 2003-10-17 00:00:00 | 7727B 41 Ave                | Calgary    | AB    | Canada  | T3B 1Y7    | 1 (780) 836-9987  | 1 (780) 836-9543  | steve@chinookcorp.com    |\n",
            "| 6          | Mitchell | Michael   | IT Manager          | 1         | 1973-07-01 00:00:00 | 2003-10-17 00:00:00 | 5827 Bowness Road NW        | Calgary    | AB    | Canada  | T3B 0C5    | +1 (403) 246-9887 | +1 (403) 246-9899 | michael@chinookcorp.com  |\n",
            "| 7          | King     | Robert    | IT Staff            | 6         | 1970-05-29 00:00:00 | 2004-01-02 00:00:00 | 590 Columbia Boulevard West | Lethbridge | AB    | Canada  | T1K 5N8    | +1 (403) 456-9986 | +1 (403) 456-8485 | robert@chinookcorp.com   |\n",
            "| 8          | Callahan | Laura     | IT Staff            | 6         | 1968-01-09 00:00:00 | 2004-03-04 00:00:00 | 923 7 ST NW                 | Lethbridge | AB    | Canada  | T1H 1Y8    | +1 (403) 467-3351 | +1 (403) 467-8772 | laura@chinookcorp.com    |\n",
            "+------------+----------+-----------+---------------------+-----------+---------------------+---------------------+-----------------------------+------------+-------+---------+------------+-------------------+-------------------+--------------------------+\n"
          ]
        }
      ]
    },
    {
      "cell_type": "markdown",
      "source": [
        "### &#51;.&#50;. Projection\n",
        "\n",
        "A user can project some attributes via `SELECT`."
      ],
      "metadata": {
        "id": "ZM5gI6SjdSBb"
      }
    },
    {
      "cell_type": "code",
      "source": [
        "# Show only the firstname and the lastname from employees table\n",
        "cursor.execute(\"SELECT firstname, lastname FROM employees\")\n",
        "_ = [print(row) for row in cursor.fetchall()]"
      ],
      "metadata": {
        "colab": {
          "base_uri": "https://localhost:8080/"
        },
        "id": "3Y6bsXgEY8Um",
        "outputId": "e5587b1d-1782-4d54-dbec-8a600a7f6295"
      },
      "execution_count": null,
      "outputs": [
        {
          "output_type": "stream",
          "name": "stdout",
          "text": [
            "('Andrew', 'Adams')\n",
            "('Nancy', 'Edwards')\n",
            "('Jane', 'Peacock')\n",
            "('Margaret', 'Park')\n",
            "('Steve', 'Johnson')\n",
            "('Michael', 'Mitchell')\n",
            "('Robert', 'King')\n",
            "('Laura', 'Callahan')\n"
          ]
        }
      ]
    },
    {
      "cell_type": "code",
      "source": [
        "# Alternatively alias can be used to represent employees table\n",
        "cursor.execute(\"SELECT E.firstname, E.lastname FROM employees E\")\n",
        "_ = [print(row) for row in cursor.fetchall()]"
      ],
      "metadata": {
        "colab": {
          "base_uri": "https://localhost:8080/"
        },
        "id": "yYENrtBQaiUA",
        "outputId": "4a33e060-68f3-466f-ae65-5621b9e124a0"
      },
      "execution_count": null,
      "outputs": [
        {
          "output_type": "stream",
          "name": "stdout",
          "text": [
            "('Andrew', 'Adams')\n",
            "('Nancy', 'Edwards')\n",
            "('Jane', 'Peacock')\n",
            "('Margaret', 'Park')\n",
            "('Steve', 'Johnson')\n",
            "('Michael', 'Mitchell')\n",
            "('Robert', 'King')\n",
            "('Laura', 'Callahan')\n"
          ]
        }
      ]
    },
    {
      "cell_type": "code",
      "source": [
        "# Show only the firstname and the lastname in employees table sorted by lastname\n",
        "cursor.execute(\"SELECT firstname, lastname FROM employees ORDER BY lastname ASC\")\n",
        "_ = [print(row) for row in cursor.fetchall()]"
      ],
      "metadata": {
        "colab": {
          "base_uri": "https://localhost:8080/"
        },
        "id": "pYOvmOJqaz92",
        "outputId": "a0e15ff2-ac06-43f8-8e5d-205c1aa1ec25"
      },
      "execution_count": null,
      "outputs": [
        {
          "output_type": "stream",
          "name": "stdout",
          "text": [
            "('Andrew', 'Adams')\n",
            "('Laura', 'Callahan')\n",
            "('Nancy', 'Edwards')\n",
            "('Steve', 'Johnson')\n",
            "('Robert', 'King')\n",
            "('Michael', 'Mitchell')\n",
            "('Margaret', 'Park')\n",
            "('Jane', 'Peacock')\n"
          ]
        }
      ]
    },
    {
      "cell_type": "code",
      "source": [
        "# Show five records of the firstname and the lastname in employees table\n",
        "cursor.execute(\"SELECT firstname, lastname FROM employees LIMIT 5\")\n",
        "_ = [print(row) for row in cursor.fetchall()]"
      ],
      "metadata": {
        "colab": {
          "base_uri": "https://localhost:8080/"
        },
        "id": "-l3cqcBebWko",
        "outputId": "6bf9ff88-32e3-4653-b45a-c7fca10d7577"
      },
      "execution_count": null,
      "outputs": [
        {
          "output_type": "stream",
          "name": "stdout",
          "text": [
            "('Andrew', 'Adams')\n",
            "('Nancy', 'Edwards')\n",
            "('Jane', 'Peacock')\n",
            "('Margaret', 'Park')\n",
            "('Steve', 'Johnson')\n"
          ]
        }
      ]
    },
    {
      "cell_type": "code",
      "source": [
        "# Show only distinct titile in employees table\n",
        "cursor.execute(\"SELECT DISTINCT title FROM employees\")\n",
        "_ = [print(row) for row in cursor.fetchall()]"
      ],
      "metadata": {
        "colab": {
          "base_uri": "https://localhost:8080/"
        },
        "id": "y5tqUO2lb6yc",
        "outputId": "8e3043cf-7285-47d4-d1c8-619d04420907"
      },
      "execution_count": null,
      "outputs": [
        {
          "output_type": "stream",
          "name": "stdout",
          "text": [
            "('General Manager',)\n",
            "('Sales Manager',)\n",
            "('Sales Support Agent',)\n",
            "('IT Manager',)\n",
            "('IT Staff',)\n"
          ]
        }
      ]
    },
    {
      "cell_type": "markdown",
      "source": [
        "### &#51;.&#51;. Selection\n",
        "\n",
        "Extract tuples that satisfy some conditions.  "
      ],
      "metadata": {
        "id": "PNeb4mWhdacd"
      }
    },
    {
      "cell_type": "code",
      "source": [
        "# Show trackid from invoice_items table having unitprice equal to 1.99\n",
        "cursor.execute(\"SELECT trackid FROM invoice_items WHERE unitprice == 1.99\")\n",
        "[row for row in cursor.fetchall()]"
      ],
      "metadata": {
        "colab": {
          "base_uri": "https://localhost:8080/"
        },
        "id": "rgC0WbukeiB-",
        "outputId": "21a0abbc-9e99-4d11-fbe1-feddb3a24876"
      },
      "execution_count": null,
      "outputs": [
        {
          "output_type": "execute_result",
          "data": {
            "text/plain": [
              "[(2820,),\n",
              " (2826,),\n",
              " (2832,),\n",
              " (2838,),\n",
              " (2844,),\n",
              " (2850,),\n",
              " (2856,),\n",
              " (2862,),\n",
              " (2868,),\n",
              " (2874,),\n",
              " (2883,),\n",
              " (2892,),\n",
              " (2901,),\n",
              " (2910,),\n",
              " (2919,),\n",
              " (3169,),\n",
              " (3178,),\n",
              " (3187,),\n",
              " (3196,),\n",
              " (3205,),\n",
              " (3214,),\n",
              " (3223,),\n",
              " (3232,),\n",
              " (3246,),\n",
              " (3247,),\n",
              " (3248,),\n",
              " (3250,),\n",
              " (3252,),\n",
              " (3338,),\n",
              " (3347,),\n",
              " (3428,),\n",
              " (2821,),\n",
              " (2827,),\n",
              " (2833,),\n",
              " (2839,),\n",
              " (2845,),\n",
              " (2851,),\n",
              " (2860,),\n",
              " (2869,),\n",
              " (2878,),\n",
              " (2887,),\n",
              " (2896,),\n",
              " (2905,),\n",
              " (2914,),\n",
              " (2923,),\n",
              " (3173,),\n",
              " (3182,),\n",
              " (3191,),\n",
              " (3200,),\n",
              " (3209,),\n",
              " (3223,),\n",
              " (3224,),\n",
              " (3227,),\n",
              " (3229,),\n",
              " (3231,),\n",
              " (3233,),\n",
              " (3235,),\n",
              " (3237,),\n",
              " (3241,),\n",
              " (3245,),\n",
              " (3249,),\n",
              " (3342,),\n",
              " (3360,),\n",
              " (2822,),\n",
              " (2828,),\n",
              " (2837,),\n",
              " (2846,),\n",
              " (2855,),\n",
              " (2864,),\n",
              " (2873,),\n",
              " (2882,),\n",
              " (2891,),\n",
              " (2900,),\n",
              " (2909,),\n",
              " (2918,),\n",
              " (3168,),\n",
              " (3177,),\n",
              " (3186,),\n",
              " (3200,),\n",
              " (3201,),\n",
              " (3202,),\n",
              " (3204,),\n",
              " (3206,),\n",
              " (3208,),\n",
              " (3210,),\n",
              " (3212,),\n",
              " (3214,),\n",
              " (3218,),\n",
              " (3222,),\n",
              " (3226,),\n",
              " (3230,),\n",
              " (3234,),\n",
              " (3238,),\n",
              " (3244,),\n",
              " (3250,),\n",
              " (3337,),\n",
              " (3346,),\n",
              " (3364,),\n",
              " (2823,),\n",
              " (2832,),\n",
              " (2841,),\n",
              " (2850,),\n",
              " (2859,),\n",
              " (2868,),\n",
              " (2877,),\n",
              " (2886,),\n",
              " (2895,),\n",
              " (2904,),\n",
              " (2913,),\n",
              " (2922,),\n",
              " (3177,)]"
            ]
          },
          "metadata": {},
          "execution_count": 25
        }
      ]
    },
    {
      "cell_type": "code",
      "source": [
        "# Show name from tracks table that plays between 100000 and 300000 milliseconds\n",
        "cursor.execute(\"SELECT name FROM tracks WHERE milliseconds BETWEEN 100000 AND 300000 LIMIT 10\")\n",
        "table = PrettyTable([description[0] for description in cursor.description])\n",
        "table.align = \"l\"  # Set alignment for all columns (left, center, right)\n",
        "for row in cursor.fetchall():\n",
        "  table.add_row(row)\n",
        "print(table)"
      ],
      "metadata": {
        "colab": {
          "base_uri": "https://localhost:8080/"
        },
        "id": "8ZM4tMcSfjBd",
        "outputId": "e133a6f6-b7a8-40f6-8bcd-154cc8ecc946"
      },
      "execution_count": null,
      "outputs": [
        {
          "output_type": "stream",
          "name": "stdout",
          "text": [
            "+--------------------------+\n",
            "| Name                     |\n",
            "+--------------------------+\n",
            "| Fast As a Shark          |\n",
            "| Restless and Wild        |\n",
            "| Put The Finger On You    |\n",
            "| Let's Get It Up          |\n",
            "| Inject The Venom         |\n",
            "| Snowballed               |\n",
            "| Evil Walks               |\n",
            "| C.O.D.                   |\n",
            "| Breaking The Rules       |\n",
            "| Night Of The Long Knives |\n",
            "+--------------------------+\n"
          ]
        }
      ]
    },
    {
      "cell_type": "markdown",
      "source": [
        "### &#51;.&#52;. Rename\n",
        "\n",
        "Attributes can be renamed."
      ],
      "metadata": {
        "id": "NflpadRAFljT"
      }
    },
    {
      "cell_type": "code",
      "source": [
        "# Rename 'name' as 'TrackName' and show only ten of them\n",
        "cursor.execute(\"SELECT name AS TrackName FROM tracks LIMIT 10\")\n",
        "table = PrettyTable([description[0] for description in cursor.description])\n",
        "table.align = \"l\"  # Set alignment for all columns (left, center, right)\n",
        "for row in cursor.fetchall():\n",
        "  table.add_row(row)\n",
        "print(table)"
      ],
      "metadata": {
        "colab": {
          "base_uri": "https://localhost:8080/"
        },
        "id": "t3f1HyGFF2D7",
        "outputId": "cd5f20d4-0e27-40e1-92d9-4c8fd71c7134"
      },
      "execution_count": null,
      "outputs": [
        {
          "output_type": "stream",
          "name": "stdout",
          "text": [
            "+-----------------------------------------+\n",
            "| TrackName                               |\n",
            "+-----------------------------------------+\n",
            "| For Those About To Rock (We Salute You) |\n",
            "| Balls to the Wall                       |\n",
            "| Fast As a Shark                         |\n",
            "| Restless and Wild                       |\n",
            "| Princess of the Dawn                    |\n",
            "| Put The Finger On You                   |\n",
            "| Let's Get It Up                         |\n",
            "| Inject The Venom                        |\n",
            "| Snowballed                              |\n",
            "| Evil Walks                              |\n",
            "+-----------------------------------------+\n"
          ]
        }
      ]
    },
    {
      "cell_type": "markdown",
      "source": [
        "## &#52;. SQL with multiple tables"
      ],
      "metadata": {
        "id": "43ibk6c3iexl"
      }
    },
    {
      "cell_type": "markdown",
      "source": [
        "## &#52;.&#49;. Join\n",
        "\n",
        "Two tables can be joined by some attributes."
      ],
      "metadata": {
        "id": "n03w-jBTLEEa"
      }
    },
    {
      "cell_type": "code",
      "source": [
        "# Show 10 tuples from albums table\n",
        "cursor.execute(\"SELECT * FROM albums LIMIT 10\")\n",
        "for row in cursor.fetchall():\n",
        "  print(row)"
      ],
      "metadata": {
        "colab": {
          "base_uri": "https://localhost:8080/"
        },
        "id": "E607evXkikdp",
        "outputId": "b70e4715-62c7-4490-98d0-124ab914311a"
      },
      "execution_count": null,
      "outputs": [
        {
          "output_type": "stream",
          "name": "stdout",
          "text": [
            "(1, 'For Those About To Rock We Salute You', 1)\n",
            "(2, 'Balls to the Wall', 2)\n",
            "(3, 'Restless and Wild', 2)\n",
            "(4, 'Let There Be Rock', 1)\n",
            "(5, 'Big Ones', 3)\n",
            "(6, 'Jagged Little Pill', 4)\n",
            "(7, 'Facelift', 5)\n",
            "(8, 'Warner 25 Anos', 6)\n",
            "(9, 'Plays Metallica By Four Cellos', 7)\n",
            "(10, 'Audioslave', 8)\n"
          ]
        }
      ]
    },
    {
      "cell_type": "code",
      "source": [
        "# Show 10 tup[es from artists table\n",
        "cursor.execute(\"SELECT * FROM artists LIMIT 10\")\n",
        "for row in cursor.fetchall():\n",
        "  print(row)"
      ],
      "metadata": {
        "colab": {
          "base_uri": "https://localhost:8080/"
        },
        "id": "a6KuECWPi5Np",
        "outputId": "8c62c81f-79c2-4b44-ec5c-f89a474899ee"
      },
      "execution_count": null,
      "outputs": [
        {
          "output_type": "stream",
          "name": "stdout",
          "text": [
            "(1, 'AC/DC')\n",
            "(2, 'Accept')\n",
            "(3, 'Aerosmith')\n",
            "(4, 'Alanis Morissette')\n",
            "(5, 'Alice In Chains')\n",
            "(6, 'Antônio Carlos Jobim')\n",
            "(7, 'Apocalyptica')\n",
            "(8, 'Audioslave')\n",
            "(9, 'BackBeat')\n",
            "(10, 'Billy Cobham')\n"
          ]
        }
      ]
    },
    {
      "cell_type": "code",
      "source": [
        "# Show 10 tuples representing which artists is the owner of which albums\\\n",
        "cursor.execute(\"SELECT Title, Name FROM albums A, artists T WHERE A.artistid == T.artistid LIMIT 10\")\n",
        "table = PrettyTable([description[0] for description in cursor.description])\n",
        "table.align = \"l\"  # Set alignment for all columns (left, center, right)\n",
        "for row in cursor.fetchall():\n",
        "  table.add_row(row)\n",
        "print(table)"
      ],
      "metadata": {
        "colab": {
          "base_uri": "https://localhost:8080/"
        },
        "id": "pu95f20FjFnZ",
        "outputId": "71fbc328-7827-45eb-f55a-17991debbeb7"
      },
      "execution_count": null,
      "outputs": [
        {
          "output_type": "stream",
          "name": "stdout",
          "text": [
            "+---------------------------------------+----------------------+\n",
            "| Title                                 | Name                 |\n",
            "+---------------------------------------+----------------------+\n",
            "| For Those About To Rock We Salute You | AC/DC                |\n",
            "| Balls to the Wall                     | Accept               |\n",
            "| Restless and Wild                     | Accept               |\n",
            "| Let There Be Rock                     | AC/DC                |\n",
            "| Big Ones                              | Aerosmith            |\n",
            "| Jagged Little Pill                    | Alanis Morissette    |\n",
            "| Facelift                              | Alice In Chains      |\n",
            "| Warner 25 Anos                        | Antônio Carlos Jobim |\n",
            "| Plays Metallica By Four Cellos        | Apocalyptica         |\n",
            "| Audioslave                            | Audioslave           |\n",
            "+---------------------------------------+----------------------+\n"
          ]
        }
      ]
    },
    {
      "cell_type": "code",
      "source": [
        "# Alternatively, join can be used instead\n",
        "cursor.execute(\"SELECT Title, Name FROM albums A INNER JOIN artists T ON A.artistid == T.artistid LIMIT 10\")\n",
        "table = PrettyTable([description[0] for description in cursor.description])\n",
        "table.align = \"l\"  # Set alignment for all columns (left, center, right)\n",
        "for row in cursor.fetchall():\n",
        "  table.add_row(row)\n",
        "print(table)"
      ],
      "metadata": {
        "colab": {
          "base_uri": "https://localhost:8080/"
        },
        "id": "OpCjUpT-kHZ2",
        "outputId": "af0440fd-acf5-4734-d252-d9fbb6c9ebe4"
      },
      "execution_count": null,
      "outputs": [
        {
          "output_type": "stream",
          "name": "stdout",
          "text": [
            "+---------------------------------------+----------------------+\n",
            "| Title                                 | Name                 |\n",
            "+---------------------------------------+----------------------+\n",
            "| For Those About To Rock We Salute You | AC/DC                |\n",
            "| Balls to the Wall                     | Accept               |\n",
            "| Restless and Wild                     | Accept               |\n",
            "| Let There Be Rock                     | AC/DC                |\n",
            "| Big Ones                              | Aerosmith            |\n",
            "| Jagged Little Pill                    | Alanis Morissette    |\n",
            "| Facelift                              | Alice In Chains      |\n",
            "| Warner 25 Anos                        | Antônio Carlos Jobim |\n",
            "| Plays Metallica By Four Cellos        | Apocalyptica         |\n",
            "| Audioslave                            | Audioslave           |\n",
            "+---------------------------------------+----------------------+\n"
          ]
        }
      ]
    },
    {
      "cell_type": "markdown",
      "source": [
        "## &#53;. SQL with aggregation functions\n",
        "\n",
        "Aggregation is the function to summarize a collection of data\n",
        "\n",
        "Five aggregate functions can be used\n",
        "* count(), sum(), avg(), max(), min()"
      ],
      "metadata": {
        "id": "93Lw3xMrl3ac"
      }
    },
    {
      "cell_type": "code",
      "source": [
        "# Show the number of customers records\n",
        "cursor.execute(\"SELECT count(*) AS 'Total customer' FROM customers\")\n",
        "print(cursor.fetchone())"
      ],
      "metadata": {
        "colab": {
          "base_uri": "https://localhost:8080/"
        },
        "id": "Y0VwCaLdmNsb",
        "outputId": "c07c6844-97ed-45aa-d7e8-2c23c7fa4fdb"
      },
      "execution_count": null,
      "outputs": [
        {
          "output_type": "stream",
          "name": "stdout",
          "text": [
            "(59,)\n"
          ]
        }
      ]
    },
    {
      "cell_type": "code",
      "source": [
        "# Show the total of quantity purchases\n",
        "cursor.execute(\"SELECT sum(Quantity) AS 'Total quantities' FROM invoice_items\")\n",
        "print(cursor.fetchone())"
      ],
      "metadata": {
        "colab": {
          "base_uri": "https://localhost:8080/"
        },
        "id": "ibLvbCasmtoe",
        "outputId": "23b11840-7483-479e-e679-142547702e68"
      },
      "execution_count": null,
      "outputs": [
        {
          "output_type": "stream",
          "name": "stdout",
          "text": [
            "(2240,)\n"
          ]
        }
      ]
    },
    {
      "cell_type": "code",
      "source": [
        "# Show the average number of milliseconds in tracks table\n",
        "cursor.execute(\"SELECT avg(milliseconds) AS 'Average tracks' FROM tracks\")\n",
        "print(cursor.fetchone())"
      ],
      "metadata": {
        "colab": {
          "base_uri": "https://localhost:8080/"
        },
        "id": "dF6FtWUqnDPu",
        "outputId": "396908e7-06dc-447b-d0e9-d48d9bd9bc36"
      },
      "execution_count": null,
      "outputs": [
        {
          "output_type": "stream",
          "name": "stdout",
          "text": [
            "(393599.2121039109,)\n"
          ]
        }
      ]
    },
    {
      "cell_type": "code",
      "source": [
        "# Show the maximum millisecond in tracks table\n",
        "cursor.execute(\"SELECT max(milliseconds) FROM tracks\")\n",
        "print(cursor.fetchone())"
      ],
      "metadata": {
        "colab": {
          "base_uri": "https://localhost:8080/"
        },
        "id": "cYALtcT_R9Q2",
        "outputId": "f3805ad3-b7c2-4a78-89b7-4e3ef432665c"
      },
      "execution_count": null,
      "outputs": [
        {
          "output_type": "stream",
          "name": "stdout",
          "text": [
            "(5286953,)\n"
          ]
        }
      ]
    },
    {
      "cell_type": "code",
      "source": [
        "# Show the minimum millisecond in tracks table\n",
        "cursor.execute(\"SELECT min(milliseconds) AS 'Average tracks' FROM tracks\")\n",
        "print(cursor.fetchone())"
      ],
      "metadata": {
        "id": "NQ9CdSEySDFq",
        "outputId": "59d02c8d-129f-4e59-f33a-9a6240431081",
        "colab": {
          "base_uri": "https://localhost:8080/"
        }
      },
      "execution_count": null,
      "outputs": [
        {
          "output_type": "stream",
          "name": "stdout",
          "text": [
            "(1071,)\n"
          ]
        }
      ]
    },
    {
      "cell_type": "markdown",
      "source": [
        "## &#54;. SQL with nested queries\n",
        "\n",
        "In the FROM relation, a user can embedded another SQL statement called nested query. It can be used to select tuple having attribute_value = maximum or minimum"
      ],
      "metadata": {
        "id": "0rj3fku2qhx1"
      }
    },
    {
      "cell_type": "code",
      "source": [
        "# Show the minimum millisecond in tracks table\n",
        "cursor.execute(\"SELECT * FROM tracks, (SELECT min(milliseconds) AS mintrack FROM tracks) M WHERE milliseconds == M.mintrack\")\n",
        "print(cursor.fetchone())"
      ],
      "metadata": {
        "colab": {
          "base_uri": "https://localhost:8080/"
        },
        "id": "7oerOlqYH0CW",
        "outputId": "58bd34f6-23d6-45af-8da2-09d86b44fe1a"
      },
      "execution_count": null,
      "outputs": [
        {
          "output_type": "stream",
          "name": "stdout",
          "text": [
            "(2461, 'É Uma Partida De Futebol', 200, 1, 1, 'Samuel Rosa', 1071, 38747, 0.99, 1071)\n"
          ]
        }
      ]
    },
    {
      "cell_type": "code",
      "source": [
        "# Show the maximum millisecond in tracks table\n",
        "cursor.execute(\"SELECT * FROM tracks, (SELECT max(milliseconds) AS maxtrack FROM tracks) M WHERE milliseconds == M.maxtrack\")\n",
        "print(cursor.fetchone())"
      ],
      "metadata": {
        "colab": {
          "base_uri": "https://localhost:8080/"
        },
        "id": "K-2uonJJnkxF",
        "outputId": "76d31d50-f708-4fdb-ff68-2e052a64635c"
      },
      "execution_count": null,
      "outputs": [
        {
          "output_type": "stream",
          "name": "stdout",
          "text": [
            "(2820, 'Occupation / Precipice', 227, 3, 19, None, 5286953, 1054423946, 1.99, 5286953)\n"
          ]
        }
      ]
    },
    {
      "cell_type": "markdown",
      "source": [
        "## &#55;. SQL with derived fields\n",
        "\n",
        "The new field can be derived from existing fields."
      ],
      "metadata": {
        "id": "u1P7V6sco7fI"
      }
    },
    {
      "cell_type": "code",
      "source": [
        "# Compute the payment\n",
        "cursor.execute(\"SELECT DISTINCT unitprice*quantity AS 'payment' FROM invoice_items\")\n",
        "table = PrettyTable([description[0] for description in cursor.description])\n",
        "table.align = \"l\"  # Set alignment for all columns (left, center, right)\n",
        "for row in cursor.fetchall():\n",
        "  table.add_row(row)\n",
        "print(table)"
      ],
      "metadata": {
        "colab": {
          "base_uri": "https://localhost:8080/"
        },
        "id": "IqESz0jVIm3z",
        "outputId": "b88354ac-756b-4692-d5a3-03c70146ae22"
      },
      "execution_count": null,
      "outputs": [
        {
          "output_type": "stream",
          "name": "stdout",
          "text": [
            "+---------+\n",
            "| payment |\n",
            "+---------+\n",
            "| 0.99    |\n",
            "| 1.99    |\n",
            "+---------+\n"
          ]
        }
      ]
    },
    {
      "cell_type": "code",
      "source": [
        "# Aggregate them\n",
        "cursor.execute(\"SELECT sum(unitprice*quantity) AS 'Total payment' FROM invoice_items\")\n",
        "table = PrettyTable([description[0] for description in cursor.description])\n",
        "table.align = \"l\"  # Set alignment for all columns (left, center, right)\n",
        "for row in cursor.fetchall():\n",
        "  table.add_row(row)\n",
        "print(table)"
      ],
      "metadata": {
        "colab": {
          "base_uri": "https://localhost:8080/"
        },
        "id": "8rgjNhZZJGQh",
        "outputId": "c9a10c2b-6991-40e4-e917-979bbcdbe63c"
      },
      "execution_count": null,
      "outputs": [
        {
          "output_type": "stream",
          "name": "stdout",
          "text": [
            "+-------------------+\n",
            "| Total payment     |\n",
            "+-------------------+\n",
            "| 2328.599999999957 |\n",
            "+-------------------+\n"
          ]
        }
      ]
    },
    {
      "cell_type": "markdown",
      "source": [
        "## &#56;. SQL with group by\n",
        "\n",
        "The new field can be derived from existing fields."
      ],
      "metadata": {
        "id": "UoMnz_aypyRT"
      }
    },
    {
      "cell_type": "code",
      "source": [
        "# Show all customers who order items more than 40 items\n",
        "cursor.execute(\"SELECT customerID, count(*), sum(Total) AS T FROM invoices GROUP BY CustomerID HAVING T > 40\")\n",
        "table = PrettyTable([description[0] for description in cursor.description])\n",
        "table.align = \"l\"  # Set alignment for all columns (left, center, right)\n",
        "for row in cursor.fetchall():\n",
        "  table.add_row(row)\n",
        "print(table)"
      ],
      "metadata": {
        "colab": {
          "base_uri": "https://localhost:8080/"
        },
        "id": "nFjqoKmep1gM",
        "outputId": "5fb0590a-1845-4ce7-a0c8-0a64d7d4b0d6"
      },
      "execution_count": null,
      "outputs": [
        {
          "output_type": "stream",
          "name": "stdout",
          "text": [
            "+------------+----------+--------------------+\n",
            "| CustomerId | count(*) | T                  |\n",
            "+------------+----------+--------------------+\n",
            "| 5          | 7        | 40.620000000000005 |\n",
            "| 6          | 7        | 49.620000000000005 |\n",
            "| 7          | 7        | 42.62              |\n",
            "| 24         | 7        | 43.62              |\n",
            "| 25         | 7        | 42.62              |\n",
            "| 26         | 7        | 47.620000000000005 |\n",
            "| 28         | 7        | 43.620000000000005 |\n",
            "| 37         | 7        | 43.62              |\n",
            "| 43         | 7        | 40.620000000000005 |\n",
            "| 44         | 7        | 41.620000000000005 |\n",
            "| 45         | 7        | 45.62              |\n",
            "| 46         | 7        | 45.62              |\n",
            "| 48         | 7        | 40.62              |\n",
            "| 57         | 7        | 46.62              |\n",
            "+------------+----------+--------------------+\n"
          ]
        }
      ]
    },
    {
      "cell_type": "code",
      "source": [
        "# Show all tuples who average purchases bigger than 6\n",
        "cursor.execute(\"SELECT * FROM (SELECT customerID, count(*), avg(Total) AS avg FROM invoices GROUP BY CustomerID) A WHERE A.avg > 6\")\n",
        "table = PrettyTable([description[0] for description in cursor.description])\n",
        "table.align = \"l\"  # Set alignment for all columns (left, center, right)\n",
        "for row in cursor.fetchall():\n",
        "  table.add_row(row)\n",
        "print(table)"
      ],
      "metadata": {
        "colab": {
          "base_uri": "https://localhost:8080/"
        },
        "id": "mwRXHbBXJ6d6",
        "outputId": "5d489dae-0cf0-4b6c-eedf-78bda5316162"
      },
      "execution_count": null,
      "outputs": [
        {
          "output_type": "stream",
          "name": "stdout",
          "text": [
            "+------------+----------+--------------------+\n",
            "| customerID | count(*) | avg                |\n",
            "+------------+----------+--------------------+\n",
            "| 6          | 7        | 7.088571428571429  |\n",
            "| 7          | 7        | 6.088571428571428  |\n",
            "| 24         | 7        | 6.231428571428571  |\n",
            "| 25         | 7        | 6.088571428571428  |\n",
            "| 26         | 7        | 6.802857142857143  |\n",
            "| 28         | 7        | 6.231428571428572  |\n",
            "| 37         | 7        | 6.231428571428571  |\n",
            "| 45         | 7        | 6.517142857142857  |\n",
            "| 46         | 7        | 6.517142857142857  |\n",
            "| 57         | 7        | 6.659999999999999  |\n",
            "| 59         | 6        | 6.1066666666666665 |\n",
            "+------------+----------+--------------------+\n"
          ]
        }
      ]
    },
    {
      "cell_type": "markdown",
      "source": [
        "## Your solution\n",
        "\n",
        "1. Show all customers\n",
        "2. Show customers who make at least one purchase\n",
        "3. Show address of all customers\n",
        "4. Show customers who purchase above 40  \n",
        "5. Show all artists  \n",
        "6. Show albums that is produced by “Aerosmith”   \n",
        "7. Show artists who have the total sale > 100"
      ],
      "metadata": {
        "id": "2o9LtygchCNk"
      }
    },
    {
      "cell_type": "code",
      "source": [
        "dbconnect.close()"
      ],
      "metadata": {
        "id": "HTXnVsoslfDs"
      },
      "execution_count": null,
      "outputs": []
    }
  ]
}